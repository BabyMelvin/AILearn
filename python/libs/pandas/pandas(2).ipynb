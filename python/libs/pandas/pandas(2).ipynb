{
 "cells": [
  {
   "cell_type": "markdown",
   "metadata": {},
   "source": [
    "\n",
    "# 1.读取、写入数据"
   ]
  },
  {
   "cell_type": "markdown",
   "metadata": {},
   "source": [
    "## 1.1 CSV\n",
    "写入"
   ]
  },
  {
   "cell_type": "code",
   "execution_count": 3,
   "metadata": {
    "collapsed": true
   },
   "outputs": [],
   "source": [
    "import pandas as pd\n",
    "import numpy as np\n",
    "%matplotlib inline"
   ]
  },
  {
   "cell_type": "code",
   "execution_count": 7,
   "metadata": {
    "collapsed": false
   },
   "outputs": [
    {
     "data": {
      "text/html": [
       "<div>\n",
       "<table border=\"1\" class=\"dataframe\">\n",
       "  <thead>\n",
       "    <tr style=\"text-align: right;\">\n",
       "      <th></th>\n",
       "      <th>A</th>\n",
       "      <th>B</th>\n",
       "      <th>C</th>\n",
       "      <th>D</th>\n",
       "    </tr>\n",
       "  </thead>\n",
       "  <tbody>\n",
       "    <tr>\n",
       "      <th>2012-01-31</th>\n",
       "      <td>0.075482</td>\n",
       "      <td>0.369480</td>\n",
       "      <td>0.558647</td>\n",
       "      <td>1.327107</td>\n",
       "    </tr>\n",
       "    <tr>\n",
       "      <th>2012-02-29</th>\n",
       "      <td>0.596323</td>\n",
       "      <td>-0.162522</td>\n",
       "      <td>-0.225905</td>\n",
       "      <td>0.188591</td>\n",
       "    </tr>\n",
       "    <tr>\n",
       "      <th>2012-03-31</th>\n",
       "      <td>2.494975</td>\n",
       "      <td>-0.781131</td>\n",
       "      <td>0.211544</td>\n",
       "      <td>-1.260057</td>\n",
       "    </tr>\n",
       "    <tr>\n",
       "      <th>2012-04-30</th>\n",
       "      <td>-0.045572</td>\n",
       "      <td>0.097192</td>\n",
       "      <td>1.062572</td>\n",
       "      <td>-0.223175</td>\n",
       "    </tr>\n",
       "    <tr>\n",
       "      <th>2012-05-31</th>\n",
       "      <td>0.316729</td>\n",
       "      <td>-0.749674</td>\n",
       "      <td>0.500923</td>\n",
       "      <td>-0.570862</td>\n",
       "    </tr>\n",
       "  </tbody>\n",
       "</table>\n",
       "</div>"
      ],
      "text/plain": [
       "                   A         B         C         D\n",
       "2012-01-31  0.075482  0.369480  0.558647  1.327107\n",
       "2012-02-29  0.596323 -0.162522 -0.225905  0.188591\n",
       "2012-03-31  2.494975 -0.781131  0.211544 -1.260057\n",
       "2012-04-30 -0.045572  0.097192  1.062572 -0.223175\n",
       "2012-05-31  0.316729 -0.749674  0.500923 -0.570862"
      ]
     },
     "execution_count": 7,
     "metadata": {},
     "output_type": "execute_result"
    }
   ],
   "source": [
    "rng = pd.date_range('1/1/2012', periods=5, freq='M')\n",
    "ts = pd.Series(np.random.randn(len(rng)), index=rng)\n",
    "df = pd.DataFrame(np.random.randn(5, 4), index=ts.index,columns=['A', 'B', 'C', 'D'])\n",
    "df"
   ]
  },
  {
   "cell_type": "code",
   "execution_count": 8,
   "metadata": {
    "collapsed": true
   },
   "outputs": [],
   "source": [
    "# 写入\n",
    "df.to_csv(\"foo.csv\")"
   ]
  },
  {
   "cell_type": "code",
   "execution_count": 9,
   "metadata": {
    "collapsed": false
   },
   "outputs": [
    {
     "data": {
      "text/html": [
       "<div>\n",
       "<table border=\"1\" class=\"dataframe\">\n",
       "  <thead>\n",
       "    <tr style=\"text-align: right;\">\n",
       "      <th></th>\n",
       "      <th>Unnamed: 0</th>\n",
       "      <th>A</th>\n",
       "      <th>B</th>\n",
       "      <th>C</th>\n",
       "      <th>D</th>\n",
       "    </tr>\n",
       "  </thead>\n",
       "  <tbody>\n",
       "    <tr>\n",
       "      <th>0</th>\n",
       "      <td>2012-01-31</td>\n",
       "      <td>0.075482</td>\n",
       "      <td>0.369480</td>\n",
       "      <td>0.558647</td>\n",
       "      <td>1.327107</td>\n",
       "    </tr>\n",
       "    <tr>\n",
       "      <th>1</th>\n",
       "      <td>2012-02-29</td>\n",
       "      <td>0.596323</td>\n",
       "      <td>-0.162522</td>\n",
       "      <td>-0.225905</td>\n",
       "      <td>0.188591</td>\n",
       "    </tr>\n",
       "    <tr>\n",
       "      <th>2</th>\n",
       "      <td>2012-03-31</td>\n",
       "      <td>2.494975</td>\n",
       "      <td>-0.781131</td>\n",
       "      <td>0.211544</td>\n",
       "      <td>-1.260057</td>\n",
       "    </tr>\n",
       "    <tr>\n",
       "      <th>3</th>\n",
       "      <td>2012-04-30</td>\n",
       "      <td>-0.045572</td>\n",
       "      <td>0.097192</td>\n",
       "      <td>1.062572</td>\n",
       "      <td>-0.223175</td>\n",
       "    </tr>\n",
       "    <tr>\n",
       "      <th>4</th>\n",
       "      <td>2012-05-31</td>\n",
       "      <td>0.316729</td>\n",
       "      <td>-0.749674</td>\n",
       "      <td>0.500923</td>\n",
       "      <td>-0.570862</td>\n",
       "    </tr>\n",
       "  </tbody>\n",
       "</table>\n",
       "</div>"
      ],
      "text/plain": [
       "   Unnamed: 0         A         B         C         D\n",
       "0  2012-01-31  0.075482  0.369480  0.558647  1.327107\n",
       "1  2012-02-29  0.596323 -0.162522 -0.225905  0.188591\n",
       "2  2012-03-31  2.494975 -0.781131  0.211544 -1.260057\n",
       "3  2012-04-30 -0.045572  0.097192  1.062572 -0.223175\n",
       "4  2012-05-31  0.316729 -0.749674  0.500923 -0.570862"
      ]
     },
     "execution_count": 9,
     "metadata": {},
     "output_type": "execute_result"
    }
   ],
   "source": [
    "# 读取\n",
    "pd.read_csv(\"foo.csv\")"
   ]
  },
  {
   "cell_type": "code",
   "execution_count": 10,
   "metadata": {
    "collapsed": true
   },
   "outputs": [],
   "source": [
    "# hdf5\n",
    "df.to_hdf(\"foo.h5\",'df')"
   ]
  },
  {
   "cell_type": "code",
   "execution_count": 11,
   "metadata": {
    "collapsed": false
   },
   "outputs": [
    {
     "data": {
      "text/html": [
       "<div>\n",
       "<table border=\"1\" class=\"dataframe\">\n",
       "  <thead>\n",
       "    <tr style=\"text-align: right;\">\n",
       "      <th></th>\n",
       "      <th>A</th>\n",
       "      <th>B</th>\n",
       "      <th>C</th>\n",
       "      <th>D</th>\n",
       "    </tr>\n",
       "  </thead>\n",
       "  <tbody>\n",
       "    <tr>\n",
       "      <th>2012-01-31</th>\n",
       "      <td>0.075482</td>\n",
       "      <td>0.369480</td>\n",
       "      <td>0.558647</td>\n",
       "      <td>1.327107</td>\n",
       "    </tr>\n",
       "    <tr>\n",
       "      <th>2012-02-29</th>\n",
       "      <td>0.596323</td>\n",
       "      <td>-0.162522</td>\n",
       "      <td>-0.225905</td>\n",
       "      <td>0.188591</td>\n",
       "    </tr>\n",
       "    <tr>\n",
       "      <th>2012-03-31</th>\n",
       "      <td>2.494975</td>\n",
       "      <td>-0.781131</td>\n",
       "      <td>0.211544</td>\n",
       "      <td>-1.260057</td>\n",
       "    </tr>\n",
       "    <tr>\n",
       "      <th>2012-04-30</th>\n",
       "      <td>-0.045572</td>\n",
       "      <td>0.097192</td>\n",
       "      <td>1.062572</td>\n",
       "      <td>-0.223175</td>\n",
       "    </tr>\n",
       "    <tr>\n",
       "      <th>2012-05-31</th>\n",
       "      <td>0.316729</td>\n",
       "      <td>-0.749674</td>\n",
       "      <td>0.500923</td>\n",
       "      <td>-0.570862</td>\n",
       "    </tr>\n",
       "  </tbody>\n",
       "</table>\n",
       "</div>"
      ],
      "text/plain": [
       "                   A         B         C         D\n",
       "2012-01-31  0.075482  0.369480  0.558647  1.327107\n",
       "2012-02-29  0.596323 -0.162522 -0.225905  0.188591\n",
       "2012-03-31  2.494975 -0.781131  0.211544 -1.260057\n",
       "2012-04-30 -0.045572  0.097192  1.062572 -0.223175\n",
       "2012-05-31  0.316729 -0.749674  0.500923 -0.570862"
      ]
     },
     "execution_count": 11,
     "metadata": {},
     "output_type": "execute_result"
    }
   ],
   "source": [
    "a=pd.read_hdf(\"foo.h5\",\"df\")\n",
    "a"
   ]
  },
  {
   "cell_type": "code",
   "execution_count": 14,
   "metadata": {
    "collapsed": false
   },
   "outputs": [
    {
     "data": {
      "text/html": [
       "<div>\n",
       "<table border=\"1\" class=\"dataframe\">\n",
       "  <thead>\n",
       "    <tr style=\"text-align: right;\">\n",
       "      <th></th>\n",
       "      <th>A</th>\n",
       "      <th>B</th>\n",
       "      <th>C</th>\n",
       "      <th>D</th>\n",
       "    </tr>\n",
       "  </thead>\n",
       "  <tbody>\n",
       "    <tr>\n",
       "      <th>2012-01-31</th>\n",
       "      <td>0.075482</td>\n",
       "      <td>0.369480</td>\n",
       "      <td>0.558647</td>\n",
       "      <td>1.327107</td>\n",
       "    </tr>\n",
       "    <tr>\n",
       "      <th>2012-02-29</th>\n",
       "      <td>0.596323</td>\n",
       "      <td>-0.162522</td>\n",
       "      <td>-0.225905</td>\n",
       "      <td>0.188591</td>\n",
       "    </tr>\n",
       "    <tr>\n",
       "      <th>2012-03-31</th>\n",
       "      <td>2.494975</td>\n",
       "      <td>-0.781131</td>\n",
       "      <td>0.211544</td>\n",
       "      <td>-1.260057</td>\n",
       "    </tr>\n",
       "    <tr>\n",
       "      <th>2012-04-30</th>\n",
       "      <td>-0.045572</td>\n",
       "      <td>0.097192</td>\n",
       "      <td>1.062572</td>\n",
       "      <td>-0.223175</td>\n",
       "    </tr>\n",
       "    <tr>\n",
       "      <th>2012-05-31</th>\n",
       "      <td>0.316729</td>\n",
       "      <td>-0.749674</td>\n",
       "      <td>0.500923</td>\n",
       "      <td>-0.570862</td>\n",
       "    </tr>\n",
       "  </tbody>\n",
       "</table>\n",
       "</div>"
      ],
      "text/plain": [
       "                   A         B         C         D\n",
       "2012-01-31  0.075482  0.369480  0.558647  1.327107\n",
       "2012-02-29  0.596323 -0.162522 -0.225905  0.188591\n",
       "2012-03-31  2.494975 -0.781131  0.211544 -1.260057\n",
       "2012-04-30 -0.045572  0.097192  1.062572 -0.223175\n",
       "2012-05-31  0.316729 -0.749674  0.500923 -0.570862"
      ]
     },
     "execution_count": 14,
     "metadata": {},
     "output_type": "execute_result"
    }
   ],
   "source": [
    "# excel \n",
    "df.to_excel(\"foo.xlsx\",sheet_name='Sheet1')\n",
    "pd.read_excel(\"foo.xlsx\",'Sheet1',index_col=None,na_values=['NA'])"
   ]
  },
  {
   "cell_type": "code",
   "execution_count": null,
   "metadata": {
    "collapsed": true
   },
   "outputs": [],
   "source": []
  }
 ],
 "metadata": {
  "kernelspec": {
   "display_name": "Python 3",
   "language": "python",
   "name": "python3"
  },
  "language_info": {
   "codemirror_mode": {
    "name": "ipython",
    "version": 3
   },
   "file_extension": ".py",
   "mimetype": "text/x-python",
   "name": "python",
   "nbconvert_exporter": "python",
   "pygments_lexer": "ipython3",
   "version": "3.6.0"
  }
 },
 "nbformat": 4,
 "nbformat_minor": 2
}
