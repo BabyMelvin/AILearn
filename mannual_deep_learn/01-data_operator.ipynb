{
 "cells": [
  {
   "cell_type": "markdown",
   "id": "a20d48cb-8932-4640-925a-cbdea84aff53",
   "metadata": {},
   "source": [
    "# 1.创建Tensor"
   ]
  },
  {
   "cell_type": "code",
   "execution_count": 2,
   "id": "772d09c8-0b9f-4aed-8fa6-dfb37c7e45dd",
   "metadata": {},
   "outputs": [
    {
     "name": "stdout",
     "output_type": "stream",
     "text": [
      "tensor([[-6.3416e+29,  9.5709e-43,  0.0000e+00],\n",
      "        [ 0.0000e+00,  0.0000e+00,  0.0000e+00],\n",
      "        [ 0.0000e+00,  0.0000e+00,  0.0000e+00],\n",
      "        [ 0.0000e+00,  0.0000e+00,  0.0000e+00],\n",
      "        [ 0.0000e+00,  0.0000e+00,  0.0000e+00]])\n"
     ]
    }
   ],
   "source": [
    "import torch\n",
    "x = torch.empty(5, 3)\n",
    "print(x)"
   ]
  },
  {
   "cell_type": "code",
   "execution_count": 3,
   "id": "718caed9-a3d0-4289-bc7c-28c7185c80c5",
   "metadata": {},
   "outputs": [
    {
     "name": "stdout",
     "output_type": "stream",
     "text": [
      "tensor([[0.4078, 0.0237, 0.1096],\n",
      "        [0.9834, 0.5038, 0.2657],\n",
      "        [0.6999, 0.4089, 0.6681],\n",
      "        [0.1669, 0.5212, 0.1783],\n",
      "        [0.8387, 0.7319, 0.4652]])\n"
     ]
    }
   ],
   "source": [
    "x = torch.rand(5, 3)\n",
    "print(x)"
   ]
  },
  {
   "cell_type": "code",
   "execution_count": 4,
   "id": "ac8cb929-c525-4749-9666-8cab56509a40",
   "metadata": {},
   "outputs": [
    {
     "name": "stdout",
     "output_type": "stream",
     "text": [
      "tensor([[0, 0, 0],\n",
      "        [0, 0, 0],\n",
      "        [0, 0, 0],\n",
      "        [0, 0, 0],\n",
      "        [0, 0, 0]])\n"
     ]
    }
   ],
   "source": [
    "x = torch.zeros(5, 3, dtype=torch.long)\n",
    "print(x)"
   ]
  },
  {
   "cell_type": "code",
   "execution_count": 6,
   "id": "978f1459-23a4-4be3-8376-6fb1edc43b9f",
   "metadata": {},
   "outputs": [
    {
     "name": "stdout",
     "output_type": "stream",
     "text": [
      "tensor([5.5000, 3.0000])\n"
     ]
    }
   ],
   "source": [
    "x = torch.tensor([5.5, 3])\n",
    "print(x)"
   ]
  },
  {
   "cell_type": "code",
   "execution_count": 7,
   "id": "557b5d11-d9a3-4f1e-a00e-891260bf7f55",
   "metadata": {},
   "outputs": [
    {
     "name": "stdout",
     "output_type": "stream",
     "text": [
      "tensor([[1., 1., 1.],\n",
      "        [1., 1., 1.],\n",
      "        [1., 1., 1.],\n",
      "        [1., 1., 1.],\n",
      "        [1., 1., 1.]], dtype=torch.float64)\n",
      "tensor([[ 0.6159,  0.6796,  1.1086],\n",
      "        [ 0.0937, -0.1058,  1.1225],\n",
      "        [ 0.1414, -0.4780,  0.2334],\n",
      "        [-1.0955,  1.0423,  1.5510],\n",
      "        [-0.6971, -2.0237, -0.3580]])\n"
     ]
    }
   ],
   "source": [
    "# 返回具有相同的torch.dtype和torch.device\n",
    "x = x.new_ones(5, 3, dtype=torch.float64)\n",
    "print(x)\n",
    "\n",
    "# 指定新的数据类型\n",
    "x = torch.randn_like(x, dtype=torch.float)\n",
    "print(x)"
   ]
  },
  {
   "cell_type": "code",
   "execution_count": 8,
   "id": "1431b3da-f724-4b57-a8d5-aa0da1dc0615",
   "metadata": {},
   "outputs": [
    {
     "name": "stdout",
     "output_type": "stream",
     "text": [
      "torch.Size([5, 3])\n",
      "torch.Size([5, 3])\n"
     ]
    }
   ],
   "source": [
    "# 获取Tensor形状\n",
    "print(x.size())\n",
    "print(x.shape)"
   ]
  },
  {
   "cell_type": "markdown",
   "id": "c92050a3-8197-4450-8beb-bf5020b68607",
   "metadata": {},
   "source": [
    "Tensor很多属性如下：\n",
    "\n",
    "函数\t功能\n",
    "Tensor(*sizes)\t基础构造函数\n",
    "tensor(data,)\t类似np.array的构造函数\n",
    "ones(*sizes)\t全1Tensor\n",
    "zeros(*sizes)\t全0Tensor\n",
    "eye(*sizes)\t对角线为1，其他为0\n",
    "arange(s,e,step)\t从s到e，步长为step\n",
    "linspace(s,e,steps)\t从s到e，均匀切分成steps份\n",
    "rand/randn(*sizes)\t均匀/标准分布\n",
    "normal(mean,std)/uniform(from,to)\t正态分布/均匀分布\n",
    "randperm(m)\t随机排列"
   ]
  },
  {
   "cell_type": "markdown",
   "id": "a7fd7512-15af-48b1-a721-f11aee169062",
   "metadata": {},
   "source": [
    "# 2.操作"
   ]
  },
  {
   "cell_type": "code",
   "execution_count": 9,
   "id": "73683029-5d4a-430f-8e33-41fc1424e833",
   "metadata": {},
   "outputs": [
    {
     "name": "stdout",
     "output_type": "stream",
     "text": [
      "tensor([[ 0.6171,  0.8436,  1.2384],\n",
      "        [ 0.7266,  0.2240,  1.8171],\n",
      "        [ 0.3530,  0.2410,  1.0820],\n",
      "        [-0.5532,  1.0829,  1.8235],\n",
      "        [-0.6541, -1.0947,  0.4992]])\n",
      "tensor([[ 0.6171,  0.8436,  1.2384],\n",
      "        [ 0.7266,  0.2240,  1.8171],\n",
      "        [ 0.3530,  0.2410,  1.0820],\n",
      "        [-0.5532,  1.0829,  1.8235],\n",
      "        [-0.6541, -1.0947,  0.4992]])\n",
      "tensor([[ 0.6171,  0.8436,  1.2384],\n",
      "        [ 0.7266,  0.2240,  1.8171],\n",
      "        [ 0.3530,  0.2410,  1.0820],\n",
      "        [-0.5532,  1.0829,  1.8235],\n",
      "        [-0.6541, -1.0947,  0.4992]])\n",
      "tensor([[ 0.6171,  0.8436,  1.2384],\n",
      "        [ 0.7266,  0.2240,  1.8171],\n",
      "        [ 0.3530,  0.2410,  1.0820],\n",
      "        [-0.5532,  1.0829,  1.8235],\n",
      "        [-0.6541, -1.0947,  0.4992]])\n"
     ]
    }
   ],
   "source": [
    "# 1.加法\n",
    "y = torch.rand(5,3)\n",
    "print(x + y)\n",
    "\n",
    "print(torch.add(x, y))\n",
    "\n",
    "# 可以指定输出\n",
    "result = torch.empty(5, 3)\n",
    "torch.add(x, y, out=result)\n",
    "print(result)\n",
    "\n",
    "# inplace版本后面有_符号\n",
    "y.add_(x)\n",
    "print(y)"
   ]
  },
  {
   "cell_type": "code",
   "execution_count": 11,
   "id": "f039819a-a2c1-4502-8ba2-c8446f914614",
   "metadata": {},
   "outputs": [
    {
     "name": "stdout",
     "output_type": "stream",
     "text": [
      "tensor([1.6159, 1.6796, 2.1086])\n",
      "tensor([1.6159, 1.6796, 2.1086])\n"
     ]
    }
   ],
   "source": [
    "# 2.索引\n",
    "# 注意索引与原来共享内存，一个变化，原来也会跟着变化\n",
    "y = x[0, :]\n",
    "y += 1\n",
    "print(y)\n",
    "print(x[0, :])  #源Tensor也改变了"
   ]
  },
  {
   "cell_type": "markdown",
   "id": "70819aa4-fa2f-4186-a63f-7ddf571cd876",
   "metadata": {},
   "source": [
    "函数\t功能\n",
    "index_select(input, dim, index)\t在指定维度dim上选取，比如选取某些行、某些列\n",
    "masked_select(input, mask)\t例子如上，a[a>0]，使用ByteTensor进行选取\n",
    "nonzero(input)\t非0元素的下标\n",
    "gather(input, dim, index)\t根据index，在dim维度上选取数据，输出的size与index一样"
   ]
  },
  {
   "cell_type": "code",
   "execution_count": 12,
   "id": "24b8afb7-5444-4489-b936-507661c3f2e1",
   "metadata": {},
   "outputs": [
    {
     "name": "stdout",
     "output_type": "stream",
     "text": [
      "torch.Size([5, 3]) torch.Size([15]) torch.Size([3, 5])\n"
     ]
    }
   ],
   "source": [
    "# 3.改变形状\n",
    "y = x.view(15)\n",
    "z = x.view(-1, 5)  # -1所指维度可以根据其他维度的值推断出来\n",
    "print(x.size(), y.size(), z.size())"
   ]
  },
  {
   "cell_type": "markdown",
   "id": "2ab0f3b4-acf0-4f21-8451-88efeabc68ec",
   "metadata": {},
   "source": [
    "# 3. 自动求梯度\n",
    "PyTorch提供的`autograd包`能够根据输入和前向传播过程自动构建计算图，并执行反向传播。\n",
    "Tensor如果将其属性`.requires_grad`设置为True，它将开始追踪(track)在其上的所有操作（这样就可以利用链式法则进行梯度传播了）。完成计算后，可以调用`.backward()`来完成所有梯度计算。此Tensor的梯度将累积到`.grad`属性中。\n",
    "\n",
    "> 注意在y.backward()时，如果y是标量，则不需要为backward()传入任何参数；否则，需要传入一个与y同形的Tensor。\n",
    "\n",
    "如果不想要被继续追踪，可以调用`.detach()`将其从追踪记录中分离出来，这样就可以防止将来的计算被追踪，这样梯度就传不过去了。此外，还可以用`with torch.no_grad()`将不想被追踪的操作代码块包裹起来，这种方法在评估模型的时候很常用，因为在评估模型时，我们并不需要计算可训练参数（requires_grad=True）的梯度。\n",
    "\n",
    "Function是另外一个很重要的类。Tensor和Function互相结合就可以构建一个记录有整个计算过程的`有向无环图（DAG）`。每个Tensor都有一个`.grad_fn`属性，该属性即创建该Tensor的Function, 就是说该Tensor是不是通过某些运算得到的，若是，则grad_fn返回一个与这些运算相关的对象，否则是None。"
   ]
  },
  {
   "cell_type": "code",
   "execution_count": 13,
   "id": "017a5d79-538c-4f99-b9de-8476f996de5b",
   "metadata": {},
   "outputs": [
    {
     "name": "stdout",
     "output_type": "stream",
     "text": [
      "tensor([[1., 1.],\n",
      "        [1., 1.]], requires_grad=True)\n",
      "None\n"
     ]
    }
   ],
   "source": [
    "x = torch.ones(2, 2, requires_grad = True)\n",
    "print(x)\n",
    "print(x.grad_fn)"
   ]
  },
  {
   "cell_type": "code",
   "execution_count": 14,
   "id": "d344f803-3cd2-4dba-be3f-fa283f3d3fc1",
   "metadata": {},
   "outputs": [
    {
     "name": "stdout",
     "output_type": "stream",
     "text": [
      "tensor([[3., 3.],\n",
      "        [3., 3.]], grad_fn=<AddBackward0>)\n",
      "<AddBackward0 object at 0x0000013A7988ABE0>\n"
     ]
    }
   ],
   "source": [
    "y = x + 2\n",
    "print(y)\n",
    "print(y.grad_fn)"
   ]
  },
  {
   "cell_type": "code",
   "execution_count": 15,
   "id": "038fddb6-5572-4e62-bc0f-f408ea8cafb0",
   "metadata": {},
   "outputs": [
    {
     "name": "stdout",
     "output_type": "stream",
     "text": [
      "True False\n"
     ]
    }
   ],
   "source": [
    "print(x.is_leaf, y.is_leaf)"
   ]
  },
  {
   "cell_type": "code",
   "execution_count": 16,
   "id": "556a9acf-4a46-482c-9671-e0ae7f4b72ae",
   "metadata": {},
   "outputs": [
    {
     "name": "stdout",
     "output_type": "stream",
     "text": [
      "tensor([[12., 12.],\n",
      "        [12., 12.]], grad_fn=<AddBackward0>) tensor(12., grad_fn=<MeanBackward0>)\n"
     ]
    }
   ],
   "source": [
    "z = y * y + 3\n",
    "out = z.mean()\n",
    "print(z, out)"
   ]
  },
  {
   "cell_type": "code",
   "execution_count": 19,
   "id": "787c15ce-6a76-4b08-9b16-65bcf33cfe39",
   "metadata": {},
   "outputs": [
    {
     "name": "stdout",
     "output_type": "stream",
     "text": [
      "False\n",
      "True\n",
      "<SumBackward0 object at 0x0000013A79B33340>\n"
     ]
    }
   ],
   "source": [
    "# in-place方式改变requires_grad属性\n",
    "a = torch.randn(2, 2) # 默认requires_grad属性为False\n",
    "a = ((a * 3) / (a - 1))\n",
    "print(a.requires_grad)\n",
    "a.requires_grad_(True)\n",
    "print(a.requires_grad)\n",
    "b = (a * a).sum()\n",
    "print(b.grad_fn)"
   ]
  },
  {
   "cell_type": "markdown",
   "id": "7f510a1a-c9c6-4c73-ad30-862bc4b8fda9",
   "metadata": {},
   "source": [
    "## 3.1梯度\n",
    "因为out是一个标量，所以调用backward()时不需要指定求导变量."
   ]
  },
  {
   "cell_type": "code",
   "execution_count": 20,
   "id": "8938165f-3b06-405b-85eb-9ba935d6a950",
   "metadata": {},
   "outputs": [],
   "source": [
    "out.backward() #等价于out.backward(torch.tensor(1.))"
   ]
  },
  {
   "cell_type": "code",
   "execution_count": 21,
   "id": "ba167020-4741-421c-b32b-4a529a318b5a",
   "metadata": {},
   "outputs": [
    {
     "name": "stdout",
     "output_type": "stream",
     "text": [
      "tensor([[1.5000, 1.5000],\n",
      "        [1.5000, 1.5000]])\n"
     ]
    }
   ],
   "source": [
    "print(x.grad) # out关于x的梯度"
   ]
  },
  {
   "cell_type": "code",
   "execution_count": 22,
   "id": "3f5a9655-0785-49b3-8d4b-b7e28d885840",
   "metadata": {},
   "outputs": [
    {
     "name": "stdout",
     "output_type": "stream",
     "text": [
      "tensor([[2.5000, 2.5000],\n",
      "        [2.5000, 2.5000]])\n",
      "tensor([[1., 1.],\n",
      "        [1., 1.]])\n"
     ]
    }
   ],
   "source": [
    "# 再来反向传播一次，注意grad是累加的\n",
    "out2 = x.sum()\n",
    "out2.backward()\n",
    "print(x.grad)\n",
    "\n",
    "out3 = x.sum()\n",
    "x.grad.data.zero_()\n",
    "out3.backward()\n",
    "print(x.grad)"
   ]
  },
  {
   "cell_type": "code",
   "execution_count": 23,
   "id": "430f3f37-a09e-4683-a345-c06acd19b153",
   "metadata": {},
   "outputs": [
    {
     "name": "stdout",
     "output_type": "stream",
     "text": [
      "tensor([[2., 4.],\n",
      "        [6., 8.]], grad_fn=<ViewBackward0>)\n"
     ]
    }
   ],
   "source": [
    "x = torch.tensor([1.0, 2.0, 3.0, 4.0], requires_grad = True)\n",
    "y = 2 * x\n",
    "z = y.view(2, 2)\n",
    "print(z)"
   ]
  },
  {
   "cell_type": "code",
   "execution_count": 24,
   "id": "907093f8-df18-4ae6-bf32-a56831f1d089",
   "metadata": {},
   "outputs": [
    {
     "name": "stdout",
     "output_type": "stream",
     "text": [
      "tensor([2.0000, 0.2000, 0.0200, 0.0020])\n"
     ]
    }
   ],
   "source": [
    "v = torch.tensor([[1.0, 0.1], [0.01, 0.001]], dtype = torch.float)\n",
    "z.backward(v)\n",
    "print(x.grad)"
   ]
  },
  {
   "cell_type": "code",
   "execution_count": 25,
   "id": "15313530-a3e3-4757-a91f-3565db08f090",
   "metadata": {},
   "outputs": [
    {
     "name": "stdout",
     "output_type": "stream",
     "text": [
      "True\n",
      "tensor(1., grad_fn=<PowBackward0>) True\n",
      "tensor(1.) False\n",
      "tensor(2., grad_fn=<AddBackward0>) True\n"
     ]
    }
   ],
   "source": [
    "# 梯度追踪的例子\n",
    "x = torch.tensor(1.0, requires_grad = True)\n",
    "y1 = x ** 2\n",
    "with torch.no_grad():\n",
    "    y2 = x ** 3\n",
    "y3 = y1 + y2\n",
    "\n",
    "print(x.requires_grad)\n",
    "print(y1, y1.requires_grad)\n",
    "print(y2, y2.requires_grad)\n",
    "print(y3, y3.requires_grad)"
   ]
  },
  {
   "cell_type": "code",
   "execution_count": 26,
   "id": "8899736d-f04d-4d3e-9664-b993bb52f819",
   "metadata": {},
   "outputs": [
    {
     "name": "stdout",
     "output_type": "stream",
     "text": [
      "tensor([1.])\n",
      "False\n",
      "tensor([100.], requires_grad=True)\n",
      "tensor([2.])\n"
     ]
    }
   ],
   "source": [
    "# 只改变数值，不会被记录到计算图中，所以不影响梯度\n",
    "x = torch.ones(1, requires_grad = True)\n",
    "print(x.data) # 还是一个Tensor\n",
    "print(x.data.requires_grad) # 但是已经是独立于计算图之外\n",
    "y = 2 * x\n",
    "x.data *= 100 # 只是改变值，不影响梯度\n",
    "y.backward()\n",
    "print(x)\n",
    "print(x.grad)"
   ]
  },
  {
   "cell_type": "code",
   "execution_count": null,
   "id": "2cf8ade6-f00f-4e97-a862-57d1b8a1066b",
   "metadata": {},
   "outputs": [],
   "source": []
  }
 ],
 "metadata": {
  "kernelspec": {
   "display_name": "Python 3 (ipykernel)",
   "language": "python",
   "name": "python3"
  },
  "language_info": {
   "codemirror_mode": {
    "name": "ipython",
    "version": 3
   },
   "file_extension": ".py",
   "mimetype": "text/x-python",
   "name": "python",
   "nbconvert_exporter": "python",
   "pygments_lexer": "ipython3",
   "version": "3.9.19"
  }
 },
 "nbformat": 4,
 "nbformat_minor": 5
}
