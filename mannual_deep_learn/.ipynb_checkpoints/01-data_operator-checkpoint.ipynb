{
 "cells": [
  {
   "cell_type": "markdown",
   "id": "a20d48cb-8932-4640-925a-cbdea84aff53",
   "metadata": {},
   "source": [
    "# 1.创建Tensor"
   ]
  },
  {
   "cell_type": "code",
   "execution_count": 2,
   "id": "772d09c8-0b9f-4aed-8fa6-dfb37c7e45dd",
   "metadata": {},
   "outputs": [
    {
     "name": "stdout",
     "output_type": "stream",
     "text": [
      "tensor([[-6.3416e+29,  9.5709e-43,  0.0000e+00],\n",
      "        [ 0.0000e+00,  0.0000e+00,  0.0000e+00],\n",
      "        [ 0.0000e+00,  0.0000e+00,  0.0000e+00],\n",
      "        [ 0.0000e+00,  0.0000e+00,  0.0000e+00],\n",
      "        [ 0.0000e+00,  0.0000e+00,  0.0000e+00]])\n"
     ]
    }
   ],
   "source": [
    "import torch\n",
    "x = torch.empty(5, 3)\n",
    "print(x)"
   ]
  },
  {
   "cell_type": "code",
   "execution_count": 3,
   "id": "718caed9-a3d0-4289-bc7c-28c7185c80c5",
   "metadata": {},
   "outputs": [
    {
     "name": "stdout",
     "output_type": "stream",
     "text": [
      "tensor([[0.4078, 0.0237, 0.1096],\n",
      "        [0.9834, 0.5038, 0.2657],\n",
      "        [0.6999, 0.4089, 0.6681],\n",
      "        [0.1669, 0.5212, 0.1783],\n",
      "        [0.8387, 0.7319, 0.4652]])\n"
     ]
    }
   ],
   "source": [
    "x = torch.rand(5, 3)\n",
    "print(x)"
   ]
  },
  {
   "cell_type": "code",
   "execution_count": 4,
   "id": "ac8cb929-c525-4749-9666-8cab56509a40",
   "metadata": {},
   "outputs": [
    {
     "name": "stdout",
     "output_type": "stream",
     "text": [
      "tensor([[0, 0, 0],\n",
      "        [0, 0, 0],\n",
      "        [0, 0, 0],\n",
      "        [0, 0, 0],\n",
      "        [0, 0, 0]])\n"
     ]
    }
   ],
   "source": [
    "x = torch.zeros(5, 3, dtype=torch.long)\n",
    "print(x)"
   ]
  },
  {
   "cell_type": "code",
   "execution_count": 6,
   "id": "978f1459-23a4-4be3-8376-6fb1edc43b9f",
   "metadata": {},
   "outputs": [
    {
     "name": "stdout",
     "output_type": "stream",
     "text": [
      "tensor([5.5000, 3.0000])\n"
     ]
    }
   ],
   "source": [
    "x = torch.tensor([5.5, 3])\n",
    "print(x)"
   ]
  },
  {
   "cell_type": "code",
   "execution_count": 7,
   "id": "557b5d11-d9a3-4f1e-a00e-891260bf7f55",
   "metadata": {},
   "outputs": [
    {
     "name": "stdout",
     "output_type": "stream",
     "text": [
      "tensor([[1., 1., 1.],\n",
      "        [1., 1., 1.],\n",
      "        [1., 1., 1.],\n",
      "        [1., 1., 1.],\n",
      "        [1., 1., 1.]], dtype=torch.float64)\n",
      "tensor([[ 0.6159,  0.6796,  1.1086],\n",
      "        [ 0.0937, -0.1058,  1.1225],\n",
      "        [ 0.1414, -0.4780,  0.2334],\n",
      "        [-1.0955,  1.0423,  1.5510],\n",
      "        [-0.6971, -2.0237, -0.3580]])\n"
     ]
    }
   ],
   "source": [
    "# 返回具有相同的torch.dtype和torch.device\n",
    "x = x.new_ones(5, 3, dtype=torch.float64)\n",
    "print(x)\n",
    "\n",
    "# 指定新的数据类型\n",
    "x = torch.randn_like(x, dtype=torch.float)\n",
    "print(x)"
   ]
  },
  {
   "cell_type": "code",
   "execution_count": 8,
   "id": "1431b3da-f724-4b57-a8d5-aa0da1dc0615",
   "metadata": {},
   "outputs": [
    {
     "name": "stdout",
     "output_type": "stream",
     "text": [
      "torch.Size([5, 3])\n",
      "torch.Size([5, 3])\n"
     ]
    }
   ],
   "source": [
    "# 获取Tensor形状\n",
    "print(x.size())\n",
    "print(x.shape)"
   ]
  },
  {
   "cell_type": "markdown",
   "id": "c92050a3-8197-4450-8beb-bf5020b68607",
   "metadata": {},
   "source": [
    "Tensor很多属性如下：\n",
    "\n",
    "函数\t功能\n",
    "Tensor(*sizes)\t基础构造函数\n",
    "tensor(data,)\t类似np.array的构造函数\n",
    "ones(*sizes)\t全1Tensor\n",
    "zeros(*sizes)\t全0Tensor\n",
    "eye(*sizes)\t对角线为1，其他为0\n",
    "arange(s,e,step)\t从s到e，步长为step\n",
    "linspace(s,e,steps)\t从s到e，均匀切分成steps份\n",
    "rand/randn(*sizes)\t均匀/标准分布\n",
    "normal(mean,std)/uniform(from,to)\t正态分布/均匀分布\n",
    "randperm(m)\t随机排列"
   ]
  },
  {
   "cell_type": "markdown",
   "id": "a7fd7512-15af-48b1-a721-f11aee169062",
   "metadata": {},
   "source": [
    "# 2.操作"
   ]
  },
  {
   "cell_type": "code",
   "execution_count": 9,
   "id": "73683029-5d4a-430f-8e33-41fc1424e833",
   "metadata": {},
   "outputs": [
    {
     "name": "stdout",
     "output_type": "stream",
     "text": [
      "tensor([[ 0.6171,  0.8436,  1.2384],\n",
      "        [ 0.7266,  0.2240,  1.8171],\n",
      "        [ 0.3530,  0.2410,  1.0820],\n",
      "        [-0.5532,  1.0829,  1.8235],\n",
      "        [-0.6541, -1.0947,  0.4992]])\n",
      "tensor([[ 0.6171,  0.8436,  1.2384],\n",
      "        [ 0.7266,  0.2240,  1.8171],\n",
      "        [ 0.3530,  0.2410,  1.0820],\n",
      "        [-0.5532,  1.0829,  1.8235],\n",
      "        [-0.6541, -1.0947,  0.4992]])\n",
      "tensor([[ 0.6171,  0.8436,  1.2384],\n",
      "        [ 0.7266,  0.2240,  1.8171],\n",
      "        [ 0.3530,  0.2410,  1.0820],\n",
      "        [-0.5532,  1.0829,  1.8235],\n",
      "        [-0.6541, -1.0947,  0.4992]])\n",
      "tensor([[ 0.6171,  0.8436,  1.2384],\n",
      "        [ 0.7266,  0.2240,  1.8171],\n",
      "        [ 0.3530,  0.2410,  1.0820],\n",
      "        [-0.5532,  1.0829,  1.8235],\n",
      "        [-0.6541, -1.0947,  0.4992]])\n"
     ]
    }
   ],
   "source": [
    "# 1.加法\n",
    "y = torch.rand(5,3)\n",
    "print(x + y)\n",
    "\n",
    "print(torch.add(x, y))\n",
    "\n",
    "# 可以指定输出\n",
    "result = torch.empty(5, 3)\n",
    "torch.add(x, y, out=result)\n",
    "print(result)\n",
    "\n",
    "# inplace版本后面有_符号\n",
    "y.add_(x)\n",
    "print(y)"
   ]
  },
  {
   "cell_type": "code",
   "execution_count": 11,
   "id": "f039819a-a2c1-4502-8ba2-c8446f914614",
   "metadata": {},
   "outputs": [
    {
     "name": "stdout",
     "output_type": "stream",
     "text": [
      "tensor([1.6159, 1.6796, 2.1086])\n",
      "tensor([1.6159, 1.6796, 2.1086])\n"
     ]
    }
   ],
   "source": [
    "# 2.索引\n",
    "# 注意索引与原来共享内存，一个变化，原来也会跟着变化\n",
    "y = x[0, :]\n",
    "y += 1\n",
    "print(y)\n",
    "print(x[0, :])  #源Tensor也改变了"
   ]
  },
  {
   "cell_type": "markdown",
   "id": "70819aa4-fa2f-4186-a63f-7ddf571cd876",
   "metadata": {},
   "source": [
    "函数\t功能\n",
    "index_select(input, dim, index)\t在指定维度dim上选取，比如选取某些行、某些列\n",
    "masked_select(input, mask)\t例子如上，a[a>0]，使用ByteTensor进行选取\n",
    "nonzero(input)\t非0元素的下标\n",
    "gather(input, dim, index)\t根据index，在dim维度上选取数据，输出的size与index一样"
   ]
  },
  {
   "cell_type": "code",
   "execution_count": null,
   "id": "24b8afb7-5444-4489-b936-507661c3f2e1",
   "metadata": {},
   "outputs": [],
   "source": [
    "# 3.改变形状\n",
    "y = x.view(15)\n",
    "z = x.view(-1, 5)  # -1所指维度可以根据其他维度的值推断出来\n",
    "print(x.size(), y.size(), z.size())"
   ]
  }
 ],
 "metadata": {
  "kernelspec": {
   "display_name": "Python 3 (ipykernel)",
   "language": "python",
   "name": "python3"
  },
  "language_info": {
   "codemirror_mode": {
    "name": "ipython",
    "version": 3
   },
   "file_extension": ".py",
   "mimetype": "text/x-python",
   "name": "python",
   "nbconvert_exporter": "python",
   "pygments_lexer": "ipython3",
   "version": "3.9.19"
  }
 },
 "nbformat": 4,
 "nbformat_minor": 5
}
